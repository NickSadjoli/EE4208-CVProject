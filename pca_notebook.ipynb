{
 "cells": [
  {
   "cell_type": "code",
   "execution_count": 2,
   "metadata": {},
   "outputs": [
    {
     "name": "stdout",
     "output_type": "stream",
     "text": [
      "\n"
     ]
    }
   ],
   "source": [
    "import numpy as np\n",
    "import cv2\n",
    "from utils import *\n",
    "from sklearn.preprocessing import StandardScaler"
   ]
  },
  {
   "cell_type": "code",
   "execution_count": 3,
   "metadata": {},
   "outputs": [
    {
     "name": "stdout",
     "output_type": "stream",
     "text": [
      "Currently listed people in database: \n",
      "==> adam\n",
      "==> andreea\n",
      "==> carla\n",
      "==> colin\n",
      "==> dan\n",
      "==> dennis\n",
      "==> derek\n",
      "==> derrick\n",
      "==> eric\n",
      "==> graham\n",
      "==> kate\n",
      "==> keith\n",
      "==> nicholas\n",
      "==> ntjy\n",
      "==> paul\n",
      "==> sarah\n",
      "==> tasos\n",
      "==> yihang\n",
      "==> yogesh\n",
      "==> yongmin\n",
      "current path ./database/adam. Counter = 0\n",
      "current path ./database/andreea. Counter = 1\n",
      "current path ./database/carla. Counter = 2\n",
      "current path ./database/colin. Counter = 3\n",
      "current path ./database/dan. Counter = 4\n",
      "current path ./database/dennis. Counter = 5\n",
      "current path ./database/derek. Counter = 6\n",
      "current path ./database/derrick. Counter = 7\n",
      "current path ./database/eric. Counter = 8\n",
      "current path ./database/graham. Counter = 9\n",
      "current path ./database/kate. Counter = 10\n",
      "current path ./database/keith. Counter = 11\n",
      "current path ./database/nicholas. Counter = 12\n",
      "current path ./database/ntjy. Counter = 13\n",
      "current path ./database/paul. Counter = 14\n",
      "current path ./database/sarah. Counter = 15\n",
      "current path ./database/tasos. Counter = 16\n",
      "current path ./database/yihang. Counter = 17\n",
      "current path ./database/yogesh. Counter = 18\n",
      "current path ./database/yongmin. Counter = 19\n"
     ]
    },
    {
     "data": {
      "text/plain": [
       "array([[178, 184, 181, ..., 200, 139, 165],\n",
       "       [176, 181, 182, ..., 210, 139, 157],\n",
       "       [179, 195, 180, ..., 202, 147, 169],\n",
       "       ...,\n",
       "       [182, 180, 179, ..., 214, 152, 167],\n",
       "       [178, 177, 178, ..., 207, 153, 164],\n",
       "       [188, 161, 113, ..., 210, 157, 165]], dtype=uint8)"
      ]
     },
     "execution_count": 3,
     "metadata": {},
     "output_type": "execute_result"
    }
   ],
   "source": [
    "data = database_to_table(\"./database/\")\n",
    "data"
   ]
  },
  {
   "cell_type": "code",
   "execution_count": 4,
   "metadata": {
    "scrolled": true
   },
   "outputs": [
    {
     "name": "stderr",
     "output_type": "stream",
     "text": [
      "/home/nicholas_sadjoli/.virtualenvs/ee4208_assign_2/local/lib/python2.7/site-packages/sklearn/utils/validation.py:475: DataConversionWarning: Data with input dtype uint8 was converted to float64 by StandardScaler.\n",
      "  warnings.warn(msg, DataConversionWarning)\n"
     ]
    }
   ],
   "source": [
    "#standardised dataset\n",
    "data_std = StandardScaler().fit_transform(data)"
   ]
  },
  {
   "cell_type": "code",
   "execution_count": 5,
   "metadata": {},
   "outputs": [
    {
     "data": {
      "text/plain": [
       "True"
      ]
     },
     "execution_count": 5,
     "metadata": {},
     "output_type": "execute_result"
    }
   ],
   "source": [
    "#calculate mean face\n",
    "mean = np.mean(data,axis=0)\n",
    "mean_std = np.mean(data_std,axis=0)\n",
    "np.savetxt(\"average_face_test_ii.csv\", mean, delimiter=\",\")\n",
    "cv2.imwrite(\"average_face_test_ii.jpg\", np.array(np.reshape(mean, (100,100))) )\n",
    "np.savetxt(\"average_face_test_ii_std.csv\", mean_std, delimiter=\",\")\n",
    "cv2.imwrite(\"average_face_test_ii_std.jpg\", np.array(np.reshape(mean_std, (100,100))) )"
   ]
  },
  {
   "cell_type": "code",
   "execution_count": 6,
   "metadata": {},
   "outputs": [
    {
     "name": "stdout",
     "output_type": "stream",
     "text": [
      "(100, 10000) float64 uint8 float64\n"
     ]
    }
   ],
   "source": [
    "mean_deduct = data - mean\n",
    "mean_deduct_std = data_std - mean_std\n",
    "print mean_deduct.shape, mean_deduct.dtype, data.dtype, mean.dtype"
   ]
  },
  {
   "cell_type": "code",
   "execution_count": 7,
   "metadata": {},
   "outputs": [
    {
     "name": "stdout",
     "output_type": "stream",
     "text": [
      "[[2733.05818182 2835.05959596 2852.74666667 ...  875.87979798\n",
      "  1938.32383838 2318.5640404 ]\n",
      " [2835.05959596 3075.07828283 3111.37171717 ...  842.72979798\n",
      "  1951.27929293 2360.26868687]\n",
      " [2852.74666667 3111.37171717 3267.96606061 ...  824.96161616\n",
      "  2000.12646465 2381.36646465]\n",
      " ...\n",
      " [ 875.87979798  842.72979798  824.96161616 ... 1461.58333333\n",
      "  1335.96313131 1467.93333333]\n",
      " [1938.32383838 1951.27929293 2000.12646465 ... 1335.96313131\n",
      "  2199.67787879 2386.02060606]\n",
      " [2318.5640404  2360.26868687 2381.36646465 ... 1467.93333333\n",
      "  2386.02060606 2873.6420202 ]]\n",
      "[[1.01010101 0.9878124  0.96419484 ... 0.44266286 0.7985225  0.83568601]\n",
      " [0.9878124  1.01010101 0.99140213 ... 0.40152563 0.7578384  0.80201378]\n",
      " [0.96419484 0.99140213 1.01010101 ... 0.38128348 0.7535359  0.78493905]\n",
      " ...\n",
      " [0.44266286 0.40152563 0.38128348 ... 1.01010101 0.75260646 0.72350746]\n",
      " [0.7985225  0.7578384  0.7535359  ... 0.75260646 1.01010101 0.95861257]\n",
      " [0.83568601 0.80201378 0.78493905 ... 0.72350746 0.95861257 1.01010101]]\n"
     ]
    },
    {
     "data": {
      "text/plain": [
       "(10000, 10000)"
      ]
     },
     "execution_count": 7,
     "metadata": {},
     "output_type": "execute_result"
    }
   ],
   "source": [
    "#default_covariance\n",
    "cov = mean_deduct.T.dot(mean_deduct)/(mean_deduct.shape[0] - 1)\n",
    "cov_std = mean_deduct_std.T.dot(mean_deduct_std)/(mean_deduct_std.shape[0] - 1)\n",
    "print cov\n",
    "print cov_std\n",
    "np.shape(cov)"
   ]
  },
  {
   "cell_type": "code",
   "execution_count": 8,
   "metadata": {},
   "outputs": [
    {
     "name": "stdout",
     "output_type": "stream",
     "text": [
      "[[2733.05818182 2835.05959596 2852.74666667 ...  875.87979798\n",
      "  1938.32383838 2318.5640404 ]\n",
      " [2835.05959596 3075.07828283 3111.37171717 ...  842.72979798\n",
      "  1951.27929293 2360.26868687]\n",
      " [2852.74666667 3111.37171717 3267.96606061 ...  824.96161616\n",
      "  2000.12646465 2381.36646465]\n",
      " ...\n",
      " [ 875.87979798  842.72979798  824.96161616 ... 1461.58333333\n",
      "  1335.96313131 1467.93333333]\n",
      " [1938.32383838 1951.27929293 2000.12646465 ... 1335.96313131\n",
      "  2199.67787879 2386.02060606]\n",
      " [2318.5640404  2360.26868687 2381.36646465 ... 1467.93333333\n",
      "  2386.02060606 2873.6420202 ]]\n",
      "[[1.01010101 0.9878124  0.96419484 ... 0.44266286 0.7985225  0.83568601]\n",
      " [0.9878124  1.01010101 0.99140213 ... 0.40152563 0.7578384  0.80201378]\n",
      " [0.96419484 0.99140213 1.01010101 ... 0.38128348 0.7535359  0.78493905]\n",
      " ...\n",
      " [0.44266286 0.40152563 0.38128348 ... 1.01010101 0.75260646 0.72350746]\n",
      " [0.7985225  0.7578384  0.7535359  ... 0.75260646 1.01010101 0.95861257]\n",
      " [0.83568601 0.80201378 0.78493905 ... 0.72350746 0.95861257 1.01010101]]\n"
     ]
    }
   ],
   "source": [
    "#numpy's covariance\n",
    "cov_np = np.cov(mean_deduct.T)\n",
    "cov_np_std = np.cov(mean_deduct_std.T)\n",
    "print cov_np\n",
    "print cov_np_std"
   ]
  },
  {
   "cell_type": "code",
   "execution_count": 9,
   "metadata": {},
   "outputs": [
    {
     "name": "stdout",
     "output_type": "stream",
     "text": [
      "(10000,) (10000, 10000)\n"
     ]
    }
   ],
   "source": [
    "eig_val, eig_vect = np.linalg.eigh(cov)\n",
    "#eig_val_std, eig_vect_std = np.linalg.eigh(cov_std)\n",
    "print np.shape(eig_val), np.shape(eig_vect), #np.shape(eig_val_std), np.shape(eig_vect_std)"
   ]
  },
  {
   "cell_type": "code",
   "execution_count": 10,
   "metadata": {},
   "outputs": [
    {
     "name": "stdout",
     "output_type": "stream",
     "text": [
      "0 None (10000,)\n",
      "1 None (10000,)\n",
      "2 None (10000,)\n",
      "3 None (10000,)\n",
      "4 None (10000,)\n",
      "5 None (10000,)\n",
      "6 None (10000,)\n",
      "7 None (10000,)\n",
      "8 None (10000,)\n",
      "9 None (10000,)\n",
      "Every eigenvector is confirmed to have length of about 1\n"
     ]
    }
   ],
   "source": [
    "for i in range(0,10): #(len(eig_vect))\n",
    "    print i, np.testing.assert_array_almost_equal(1.0, np.linalg.norm(eig_vect[:,i])), np.shape(eig_vect[:,i])#,  np.testing.assert_array_almost_equal(1.0, np.linalg.norm(eig_vect_std[:,i])), np.shape(eig_vect_std[:,i])\n",
    "print (\"Every eigenvector is confirmed to have length of about 1\")"
   ]
  },
  {
   "cell_type": "code",
   "execution_count": 11,
   "metadata": {},
   "outputs": [],
   "source": [
    "eigen_pairs = [(np.abs(eig_val[i]), eig_vect[:,i]) for i in range (len(eig_val))]\n",
    "#eigen_pairs_std = [(np.abs(eig_val_std[i]), eig_vect_std[:,i]) for i in range (len(eig_val_std))]"
   ]
  },
  {
   "cell_type": "code",
   "execution_count": 13,
   "metadata": {},
   "outputs": [
    {
     "name": "stdout",
     "output_type": "stream",
     "text": [
      "2.2659326113804198e-09\n",
      "1.877810454165308e-09\n",
      "1.4306684690362002e-09\n",
      "1.363484005370041e-09\n",
      "1.2343656995197156e-09\n",
      "1.1515196942646209e-09\n",
      "1.148748439053333e-09\n",
      "1.0603942242708938e-09\n",
      "9.909831320765816e-10\n",
      "8.332733598900666e-10\n"
     ]
    }
   ],
   "source": [
    "for k in range(0,10): #(len(eigen_pairs)):\n",
    "    print eigen_pairs[k][0] #, eigen_pairs_std[k][0]"
   ]
  },
  {
   "cell_type": "code",
   "execution_count": 14,
   "metadata": {},
   "outputs": [
    {
     "name": "stdout",
     "output_type": "stream",
     "text": [
      "(4.0022245385968177e-16, array([ 0.00000000e+00, -1.11946475e-05, -2.44142408e-04, ...,\n",
      "       -9.18426515e-03,  3.47050607e-03, -9.53236213e-03])) (6630378.903103545, array([0.01480873, 0.01480757, 0.01563737, ..., 0.005377  , 0.01373792,\n",
      "       0.01396397]))\n"
     ]
    }
   ],
   "source": [
    "#note that you can specify a function as the key so that sorted() can sort based on your specified function. \n",
    "#in this case, eigen pair is sorted based on the value of the eigenvalue\n",
    "eigen_pair_sorted = sorted(eigen_pairs, key=lambda pair:pair[0])\n",
    "#eigen_pair_sorted_std =  sorted(eigen_pairs_std, key=lambda pair:pair[0])\n",
    "print eigen_pair_sorted[0], eigen_pair_sorted[9999] #, eigen_pair_sorted_std[0], eigen_pair_sorted_std[9999]"
   ]
  },
  {
   "cell_type": "code",
   "execution_count": 15,
   "metadata": {},
   "outputs": [
    {
     "name": "stdout",
     "output_type": "stream",
     "text": [
      "(6630378.903103545, array([0.01480873, 0.01480757, 0.01563737, ..., 0.005377  , 0.01373792,\n",
      "       0.01396397])) (4.0022245385968177e-16, array([ 0.00000000e+00, -1.11946475e-05, -2.44142408e-04, ...,\n",
      "       -9.18426515e-03,  3.47050607e-03, -9.53236213e-03]))\n"
     ]
    }
   ],
   "source": [
    "eigen_pair_sorted.reverse()\n",
    "#eigen_pair_sorted_std.reverse()\n",
    "print eigen_pair_sorted[0], eigen_pair_sorted[9999], #eigen_pair_sorted_std[0], eigen_pair_sorted_std[9999]"
   ]
  },
  {
   "cell_type": "code",
   "execution_count": 17,
   "metadata": {},
   "outputs": [
    {
     "data": {
      "text/plain": [
       "'\\nfor count, pair in enumerate(eigen_pair_sorted_std):\\n    print count, pair[0]\\n'"
      ]
     },
     "execution_count": 17,
     "metadata": {},
     "output_type": "execute_result"
    }
   ],
   "source": [
    "'''\n",
    "for count, pair in enumerate(eigen_pair_sorted):\n",
    "    print count, pair[0], np.testing.assert_array_almost_equal(1.0, np.linalg.norm(eigen_pair_sorted[i][1])), np.shape(eigen_pair_sorted[i][1])\n",
    "'''\n",
    "\n",
    "'''\n",
    "for count, pair in enumerate(eigen_pair_sorted_std):\n",
    "    print count, pair[0]\n",
    "'''"
   ]
  },
  {
   "cell_type": "code",
   "execution_count": 18,
   "metadata": {},
   "outputs": [
    {
     "name": "stdout",
     "output_type": "stream",
     "text": [
      "(10000, 200)\n",
      "[[ 1.48087265e-02  6.62987771e-03 -3.03563557e-03 ...  0.00000000e+00\n",
      "   0.00000000e+00  0.00000000e+00]\n",
      " [ 1.48075653e-02  7.78966126e-03 -4.14613911e-03 ... -2.77369787e-04\n",
      "  -3.99705084e-04  3.16160364e-04]\n",
      " [ 1.56373682e-02  7.70865998e-03 -4.11064649e-03 ...  9.05292263e-05\n",
      "  -3.98873993e-04  2.20779750e-04]\n",
      " ...\n",
      " [ 5.37700189e-03  4.14391704e-04 -2.83421572e-03 ... -4.21523080e-03\n",
      "   1.00990971e-02  2.89618049e-03]\n",
      " [ 1.37379245e-02  3.55760177e-03 -3.33114492e-03 ... -5.36194210e-03\n",
      "   7.01798671e-03  2.37175941e-02]\n",
      " [ 1.39639725e-02  6.15123537e-03 -3.11629498e-03 ... -2.48551072e-02\n",
      "  -9.45842248e-03 -1.47303850e-02]] (10000, 200)\n"
     ]
    }
   ],
   "source": [
    "temp = []\n",
    "temp_std = []\n",
    "counter = 0\n",
    "#counter_std = 0\n",
    "for pair in eigen_pair_sorted:\n",
    "    if counter == 200:\n",
    "        break\n",
    "    temp.append(np.real(pair[1]))\n",
    "    counter += 1\n",
    "    \n",
    "'''    \n",
    "for pair_std in eigen_pair_sorted_std:\n",
    "    if counter_std == 125:\n",
    "        break\n",
    "    temp_std.append(np.real(pair_std[1]))\n",
    "    counter_std += 1\n",
    "'''\n",
    "    \n",
    "eig_vect_sorted = np.array(temp).T\n",
    "print np.shape(eig_vect_sorted)\n",
    "#eig_vect_sorted_std = np.array(temp_std).T\n",
    "print eig_vect_sorted, np.shape(eig_vect_sorted), \n",
    "#print eig_vect_sorted_std, np.shape(eig_vect_sorted_std)\n",
    "np.savetxt(\"eigenvector_nptest.csv\", eig_vect_sorted, delimiter=\",\")\n",
    "#np.savetxt(\"eigenvector_nptest_std.csv\", eig_vect_sorted_std, delimiter=\",\")"
   ]
  },
  {
   "cell_type": "code",
   "execution_count": 19,
   "metadata": {},
   "outputs": [],
   "source": [
    "eig_vect_scaled = np.copy(eig_vect_sorted) * 255\n",
    "np.savetxt(\"eigenvector_nptest_scaled.csv\", eig_vect_scaled, delimiter=\",\")\n",
    "eig_vect_normalized = np.copy(eig_vect_sorted)\n",
    "for i in range(0,10000):\n",
    "    eig_vect_normalized[i] = eig_vect_normalized[i] / np.linalg.norm(eig_vect_normalized[i])\n",
    "np.savetxt(\"eigenvector_nptest_normalized.csv\", eig_vect_normalized, delimiter=\",\")\n",
    "eig_vect_normalized_scaled = np.copy(eig_vect_normalized) * 255\n",
    "np.savetxt(\"eigenvector_nptest_normalized_scaled.csv\", eig_vect_normalized_scaled, delimiter=\",\")"
   ]
  },
  {
   "cell_type": "code",
   "execution_count": 20,
   "metadata": {},
   "outputs": [],
   "source": [
    "for j in range(0,10):\n",
    "    cv2.imwrite(\"eigenfaces_test_\"+str(j)+\".jpg\", np.reshape(eig_vect_sorted[:,j], (100,100)) )\n",
    "    #cv2.imwrite(\"eigenfaces_test_std_\"+str(j)+\".jpg\", np.reshape(eig_vect_sorted_std[:,j], (100,100)) )\n",
    "    cv2.imwrite(\"eigenfaces_test_scaled_\"+str(j)+\".jpg\", np.reshape(eig_vect_scaled[:,j],(100,100)) ) \n",
    "    cv2.imwrite(\"eigenfaces_test_normalized_\"+str(j)+\".jpg\", np.reshape(eig_vect_normalized[:,j], (100,100)) )\n",
    "    cv2.imwrite(\"eigenfaces_test_normalized_scaled\"+str(j)+\".jpg\", np.reshape(eig_vect_normalized_scaled[:,j], (100,100)) )"
   ]
  },
  {
   "cell_type": "code",
   "execution_count": 21,
   "metadata": {},
   "outputs": [
    {
     "name": "stdout",
     "output_type": "stream",
     "text": [
      "(100, 200)\n"
     ]
    }
   ],
   "source": [
    "reduced = mean_deduct.dot(eig_vect_sorted)\n",
    "#reduced_std = mean_deduct_std.dot(eig_vect_sorted_std)\n",
    "reduced_scaled = mean_deduct.dot(eig_vect_scaled)\n",
    "reduced_normalized = mean_deduct.dot(eig_vect_normalized)\n",
    "reduced_normalized_scaled = mean_deduct.dot(eig_vect_normalized_scaled)\n",
    "print np.shape(reduced)\n",
    "np.savetxt(\"reduced.csv\", reduced, delimiter=\",\")\n",
    "#np.savetxt(\"reduced_test_plotlyguide_std.csv\", reduced_std, delimiter=\",\")\n",
    "np.savetxt(\"reduced_scaled.csv\", reduced_scaled, delimiter=\",\")\n",
    "np.savetxt(\"reduced_norm.csv\", reduced_normalized, delimiter=\",\")\n",
    "np.savetxt(\"reduced_norm_scaled.csv\", reduced_normalized_scaled, delimiter=\",\")"
   ]
  },
  {
   "cell_type": "code",
   "execution_count": null,
   "metadata": {},
   "outputs": [],
   "source": []
  }
 ],
 "metadata": {
  "kernelspec": {
   "display_name": "Python 2",
   "language": "python",
   "name": "python2"
  },
  "language_info": {
   "codemirror_mode": {
    "name": "ipython",
    "version": 2
   },
   "file_extension": ".py",
   "mimetype": "text/x-python",
   "name": "python",
   "nbconvert_exporter": "python",
   "pygments_lexer": "ipython2",
   "version": "2.7.12"
  }
 },
 "nbformat": 4,
 "nbformat_minor": 2
}
